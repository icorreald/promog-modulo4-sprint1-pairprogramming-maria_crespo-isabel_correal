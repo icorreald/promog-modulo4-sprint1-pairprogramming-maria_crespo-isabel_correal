{
 "cells": [
  {
   "cell_type": "markdown",
   "metadata": {},
   "source": [
    "## selenium"
   ]
  },
  {
   "cell_type": "code",
   "execution_count": 35,
   "metadata": {},
   "outputs": [],
   "source": [
    "from selenium import webdriver  \n",
    "from webdriver_manager.chrome import ChromeDriverManager\n",
    "from selenium.webdriver.common.keys import Keys  \n",
    "from selenium.webdriver.support.ui import Select  \n",
    "\n",
    "from time import sleep"
   ]
  },
  {
   "cell_type": "code",
   "execution_count": 48,
   "metadata": {},
   "outputs": [],
   "source": [
    "driver = webdriver.Chrome()\n",
    "\n",
    "lista_urls = ['https://web.archive.org/web/20180328013733/https://myanimelist.net/topanime.php?type=tv', # 2018\n",
    "              'https://web.archive.org/web/20190209000610/https://myanimelist.net/topanime.php?type=tv', # 2019\n",
    "              'https://web.archive.org/web/20200110013254/https://myanimelist.net/topanime.php?type=tv', # 2020\n",
    "              'https://web.archive.org/web/20210204020308/https://myanimelist.net/topanime.php?type=tv', # 2021\n",
    "              'https://web.archive.org/web/20220204210002/https://myanimelist.net/topanime.php?type=tv', # 2022\n",
    "              'https://web.archive.org/web/20230209181306/https://myanimelist.net/topanime.php?type=tv'] # 2023 \n",
    "lista_total = []\n",
    "patron = r'^.*?\\n'\n",
    "\n",
    "for url in lista_urls:\n",
    "    lista_datos = []\n",
    "    driver.get(url)\n",
    "    sleep(1)\n",
    "    try:\n",
    "        driver.find_element('css selector', 'body > div.root > div > div.modal-wrapper > div > button').click()\n",
    "    except:\n",
    "        pass\n",
    "    sleep(2)\n",
    "    for child in range(2, 12):\n",
    "        tupla_score = []\n",
    "\n",
    "        # nombre del anime\n",
    "        \n",
    "        nombre_bruto = re.search(patron, driver.find_element('css selector', f'#content > div.pb12 > table > tbody > tr:nth-child({child}) > td.title.al.va-t.word-break').text)\n",
    "        tupla_score.append(nombre_bruto.group(0).replace('\\n', ''))\n",
    "\n",
    "        # score del anime\n",
    "        tupla_score.append(driver.find_element('css selector', f'#content > div.pb12 > table > tbody > tr:nth-child({child}) > td.score.ac.fs14').text)\n",
    "\n",
    "        # añadir a lista global\n",
    "        lista_datos.append(tuple(tupla_score))\n",
    "    lista_total.append(lista_datos)"
   ]
  },
  {
   "cell_type": "code",
   "execution_count": 50,
   "metadata": {},
   "outputs": [
    {
     "data": {
      "text/plain": [
       "[('Fullmetal Alchemist: Brotherhood', '9.24'),\n",
       " ('Steins;Gate', '9.14'),\n",
       " ('Gintama°', '9.13'),\n",
       " ('Hunter x Hunter (2011)', '9.11'),\n",
       " (\"Gintama'\", '9.10'),\n",
       " (\"Gintama': Enchousen\", '9.06'),\n",
       " ('3-gatsu no Lion 2nd Season', '9.05'),\n",
       " ('Clannad: After Story', '9.00'),\n",
       " ('Gintama', '9.00'),\n",
       " ('Gintama.', '9.00')]"
      ]
     },
     "execution_count": 50,
     "metadata": {},
     "output_type": "execute_result"
    }
   ],
   "source": [
    "lista_total"
   ]
  },
  {
   "cell_type": "code",
   "execution_count": null,
   "metadata": {},
   "outputs": [],
   "source": [
    "fmab: #\\#area5114\n",
    "steins;gate: #\\#area9253\n",
    "\n",
    "fmab: #content > div.pb12 > table > tbody > tr:nth-child(2) > td.score.ac.fs14\n",
    "sgate: #content > div.pb12 > table > tbody > tr:nth-child(3) > td.score.ac.fs14"
   ]
  },
  {
   "cell_type": "code",
   "execution_count": null,
   "metadata": {},
   "outputs": [],
   "source": [
    "fmab= #content > div.pb12 > table > tbody > tr:nth-child(2) > td.title.al.va-t.word-break\n",
    "\n",
    "sgate = #content > div.pb12 > table > tbody > tr:nth-child(3) > td.title.al.va-t.word-break"
   ]
  }
 ],
 "metadata": {
  "kernelspec": {
   "display_name": "Python 3",
   "language": "python",
   "name": "python3"
  },
  "language_info": {
   "codemirror_mode": {
    "name": "ipython",
    "version": 3
   },
   "file_extension": ".py",
   "mimetype": "text/x-python",
   "name": "python",
   "nbconvert_exporter": "python",
   "pygments_lexer": "ipython3",
   "version": "3.11.9"
  }
 },
 "nbformat": 4,
 "nbformat_minor": 2
}
